{
 "cells": [
  {
   "cell_type": "code",
   "execution_count": 1,
   "metadata": {},
   "outputs": [
    {
     "data": {
      "text/plain": [
       "\u001b[32mimport \u001b[39m\u001b[36m$ivy.$                         \u001b[39m"
      ]
     },
     "execution_count": 1,
     "metadata": {},
     "output_type": "execute_result"
    }
   ],
   "source": [
    "import $ivy.`org.scalanlp::breeze:1.0`"
   ]
  },
  {
   "cell_type": "code",
   "execution_count": 2,
   "metadata": {},
   "outputs": [
    {
     "data": {
      "text/plain": [
       "\u001b[32mimport \u001b[39m\u001b[36mbreeze.linalg._\n",
       "\u001b[39m\n",
       "\u001b[32mimport \u001b[39m\u001b[36mbreeze.numerics._\n",
       "\n",
       "//create a dense vector \n",
       "\u001b[39m\n",
       "\u001b[36mv\u001b[39m: \u001b[32mDenseVector\u001b[39m[\u001b[32mDouble\u001b[39m] = DenseVector(1.0, 2.0, 3.0, 4.0, 5.0)\n",
       "\u001b[36mzeros\u001b[39m: \u001b[32mDenseVector\u001b[39m[\u001b[32mDouble\u001b[39m] = DenseVector(0.0, 0.0, 0.0, 0.0, 0.0)\n",
       "\u001b[36mones\u001b[39m: \u001b[32mDenseVector\u001b[39m[\u001b[32mDouble\u001b[39m] = DenseVector(1.0, 1.0, 1.0, 1.0, 1.0)\n",
       "\u001b[36mfives\u001b[39m: \u001b[32mDenseVector\u001b[39m[\u001b[32mDouble\u001b[39m] = DenseVector(5.0, 5.0, 5.0, 5.0, 5.0, 5.0, 5.0, 5.0, 5.0, 5.0)\n",
       "\u001b[36mrandom\u001b[39m: \u001b[32mDenseVector\u001b[39m[\u001b[32mDouble\u001b[39m] = DenseVector(0.4653230138698856, 0.5933395641844785, 0.1791135185621422, 0.594190211221971, 0.883910849274987)\n",
       "\u001b[36msparse\u001b[39m: \u001b[32mSparseVector\u001b[39m[\u001b[32mDouble\u001b[39m] = SparseVector(5)((0,0.0), (1,1.0), (2,0.0), (3,3.0), (4,0.0))"
      ]
     },
     "execution_count": 2,
     "metadata": {},
     "output_type": "execute_result"
    }
   ],
   "source": [
    "import breeze.linalg._\n",
    "import breeze.numerics._\n",
    "\n",
    "//create a dense vector \n",
    "val v = DenseVector(1.0,2.0,3.0,4.0,5.0)\n",
    "\n",
    "//create a vector of zeros\n",
    "val zeros = DenseVector.zeros[Double](5)\n",
    "\n",
    "//create a vector of ones\n",
    "val ones = DenseVector.ones[Double](5)\n",
    "\n",
    "//a vector with a particular number (5.0 repeated 10 times)\n",
    "val fives = DenseVector.fill(10){5.0}\n",
    "\n",
    "//create a vector of random numbers (uniform random numbers between 0 and 1)\n",
    "val random = DenseVector.rand(5)\n",
    "\n",
    "//create a sparse vector\n",
    "val sparse =  SparseVector(0,1.0,0,3.0,0)"
   ]
  },
  {
   "cell_type": "code",
   "execution_count": null,
   "metadata": {},
   "outputs": [],
   "source": []
  },
  {
   "cell_type": "code",
   "execution_count": 4,
   "metadata": {},
   "outputs": [
    {
     "data": {
      "text/plain": [
       "\u001b[36mv1\u001b[39m: \u001b[32mDenseVector\u001b[39m[\u001b[32mDouble\u001b[39m] = DenseVector(1.0, 2.0, NaN, 4.0, 5.0)"
      ]
     },
     "execution_count": 4,
     "metadata": {},
     "output_type": "execute_result"
    }
   ],
   "source": [
    "val v1 = DenseVector(1.0,2.0,NaN,4.0,5.0)"
   ]
  },
  {
   "cell_type": "code",
   "execution_count": 6,
   "metadata": {},
   "outputs": [
    {
     "data": {
      "text/plain": [
       "\u001b[36mres5\u001b[39m: \u001b[32mSliceVector\u001b[39m[\u001b[32mInt\u001b[39m, \u001b[32mDouble\u001b[39m] = SliceVector(1.0, 2.0, 4.0, 5.0)"
      ]
     },
     "execution_count": 6,
     "metadata": {},
     "output_type": "execute_result"
    }
   ],
   "source": [
    "v1(v1 :== v1)"
   ]
  },
  {
   "cell_type": "code",
   "execution_count": 8,
   "metadata": {},
   "outputs": [
    {
     "data": {
      "text/plain": [
       "\u001b[36mres7\u001b[39m: \u001b[32mDouble\u001b[39m = \u001b[32m3.0\u001b[39m"
      ]
     },
     "execution_count": 8,
     "metadata": {},
     "output_type": "execute_result"
    }
   ],
   "source": [
    "breeze.stats.mean(v1(v1 :== v1))"
   ]
  },
  {
   "cell_type": "code",
   "execution_count": null,
   "metadata": {},
   "outputs": [],
   "source": []
  },
  {
   "cell_type": "code",
   "execution_count": 3,
   "metadata": {},
   "outputs": [
    {
     "data": {
      "text/plain": [
       "\u001b[36mm1\u001b[39m: \u001b[32mDenseMatrix\u001b[39m[\u001b[32mDouble\u001b[39m] = 1.1       2.2     0.4       \n",
       "3.9       4.333   0.3242    \n",
       "-0.43443  9.4242  -21324.3  \n",
       "\u001b[36mm3\u001b[39m: \u001b[32mDenseMatrix\u001b[39m[\u001b[32mDouble\u001b[39m] = 1.1       2.2     0.4       0.8      \n",
       "3.9       4.333   0.3242    0.71253  \n",
       "-0.43443  9.4242  -21324.3  0.21738  \n",
       "\u001b[36mzeros\u001b[39m: \u001b[32mDenseMatrix\u001b[39m[\u001b[32mDouble\u001b[39m] = 0.0  0.0  0.0  \n",
       "0.0  0.0  0.0  \n",
       "0.0  0.0  0.0  \n",
       "\u001b[36midentity\u001b[39m: \u001b[32mDenseMatrix\u001b[39m[\u001b[32mDouble\u001b[39m] = 1.0  0.0  0.0  0.0  0.0  \n",
       "0.0  1.0  0.0  0.0  0.0  \n",
       "0.0  0.0  1.0  0.0  0.0  \n",
       "0.0  0.0  0.0  1.0  0.0  \n",
       "0.0  0.0  0.0  0.0  1.0  \n",
       "\u001b[36mrandom\u001b[39m: \u001b[32mDenseMatrix\u001b[39m[\u001b[32mDouble\u001b[39m] = 0.6184546914497753   0.9392988285750619   0.5922235624361432    ... (10 total)\n",
       "0.3275289455170316   0.18420710384856132  0.38807449165901153   ...\n",
       "0.13564414381227397  0.3422750692183343   0.035839434485424704  ...\n",
       "0.6535054794228325   0.8904196863755516   0.07531912924245088   ...\n",
       "0.9650157737217899   0.6127308909287696   0.46298754546946075   ...\n",
       "0.24634954809000664  0.6970381040100277   0.6677516284092619    ...\n",
       "0.2596148941648766   0.7086313146630674   0.19970606100241106   ...\n",
       "0.9442890409259541   0.538916024208203    0.5314841788855884    ...\n",
       "0.685476437756265    0.8954572029896286   0.12380026519098553   ...\n",
       "0.31694739158506824  0.5950336747188203   0.6913210691427136    ...\n",
       "\u001b[36mbuilder\u001b[39m: \u001b[32mCSCMatrix\u001b[39m.\u001b[32mBuilder\u001b[39m[\u001b[32mDouble\u001b[39m] = breeze.linalg.CSCMatrix$Builder$mcD$sp@35e46248\n",
       "\u001b[36msparseM\u001b[39m: \u001b[32mCSCMatrix\u001b[39m[\u001b[32mDouble\u001b[39m] = 10 x 9 CSCMatrix\n",
       "(1,2) 0.001\n",
       "(3,4) 1.11"
      ]
     },
     "execution_count": 3,
     "metadata": {},
     "output_type": "execute_result"
    }
   ],
   "source": [
    "//Building a dense matrix inline\n",
    "val m1 = DenseMatrix((1.1,2.2,0.4), (3.9,4.333,0.3242), (-0.43443,9.4242,-21324.3))\n",
    "\n",
    "//Building a dense matrix inline\n",
    "val m3 = DenseMatrix((1.1,2.2,0.4,0.8), (3.9,4.333,0.3242,0.71253),(-0.43443,9.4242,-21324.3,0.21738))\n",
    "\n",
    "//A dense matrix of zeros with 3 rows and 3 columns\n",
    "val zeros = DenseMatrix.zeros[Double](3,3)\n",
    "\n",
    "//An identity matrix with dimension 5\n",
    "val identity = DenseMatrix.eye[Double](5)\n",
    "\n",
    "//A matrix with random elements between 0 and 1 with 3 rows and 5 columns\n",
    "val random = DenseMatrix.rand(10,10)\n",
    "\n",
    "//Creating a sparse matrix with 10 rows and 10 columns and two nonzero elements\n",
    "val builder = new CSCMatrix.Builder[Double](rows=10, cols=9)\n",
    "builder.add(3,4, 1.11)\n",
    "builder.add(1,2, 0.001)\n",
    "val sparseM = builder.result()"
   ]
  },
  {
   "cell_type": "code",
   "execution_count": 14,
   "metadata": {},
   "outputs": [
    {
     "data": {
      "text/plain": [
       "\u001b[36mres13\u001b[39m: \u001b[32mDenseVector\u001b[39m[\u001b[32mDouble\u001b[39m] = DenseVector(1.0, 1.0, 1.0, 1.0, 1.0)"
      ]
     },
     "execution_count": 14,
     "metadata": {},
     "output_type": "execute_result"
    }
   ],
   "source": []
  },
  {
   "cell_type": "code",
   "execution_count": 16,
   "metadata": {},
   "outputs": [
    {
     "data": {
      "text/plain": [
       "\u001b[36mres15\u001b[39m: \u001b[32mArray\u001b[39m[\u001b[32mDenseVector\u001b[39m[\u001b[32mDouble\u001b[39m]] = \u001b[33mArray\u001b[39m(\n",
       "  DenseVector(0.0, -1.0, -1.0, -1.0, -1.0),\n",
       "  DenseVector(-1.0, 0.0, -1.0, -1.0, -1.0),\n",
       "  DenseVector(-1.0, -1.0, 0.0, -1.0, -1.0),\n",
       "  DenseVector(-1.0, -1.0, -1.0, 0.0, -1.0),\n",
       "  DenseVector(-1.0, -1.0, -1.0, -1.0, 0.0)\n",
       ")"
      ]
     },
     "execution_count": 16,
     "metadata": {},
     "output_type": "execute_result"
    }
   ],
   "source": [
    "Array.tabulate(identity.cols){i => identity(::, i) - ones(i)}"
   ]
  },
  {
   "cell_type": "code",
   "execution_count": null,
   "metadata": {},
   "outputs": [],
   "source": []
  },
  {
   "cell_type": "code",
   "execution_count": 21,
   "metadata": {},
   "outputs": [
    {
     "data": {
      "text/plain": [
       "\u001b[36mres20\u001b[39m: \u001b[32mDenseVector\u001b[39m[\u001b[32mDouble\u001b[39m] = DenseVector(-2.3031925294632734, -0.2674697298627376, -0.5919840864961116, 0.5039472257023462, -1.9455083963657216, 1.5528210752550187, -0.42321937426954176, -0.987550085735858, 0.6424760156955018, -0.26151411439882494)"
      ]
     },
     "execution_count": 21,
     "metadata": {},
     "output_type": "execute_result"
    }
   ],
   "source": [
    "DenseVector.rand(10, breeze.stats.distributions.Gaussian(0, 1))\n",
    "\n",
    "\n"
   ]
  },
  {
   "cell_type": "code",
   "execution_count": null,
   "metadata": {},
   "outputs": [],
   "source": []
  },
  {
   "cell_type": "code",
   "execution_count": 4,
   "metadata": {},
   "outputs": [
    {
     "name": "stdout",
     "output_type": "stream",
     "text": [
      "Matrix m1:\n",
      "1.1       2.2     0.4       \n",
      "3.9       4.333   0.3242    \n",
      "-0.43443  9.4242  -21324.3  \n",
      "\n",
      "transpose of m1:\n",
      "1.1  3.9     -0.43443  \n",
      "2.2  4.333   9.4242    \n",
      "0.4  0.3242  -21324.3  \n",
      "\n",
      "The determinant of the matrix \"random\":\n"
     ]
    },
    {
     "name": "stderr",
     "output_type": "stream",
     "text": [
      "Aug 23, 2020 2:24:50 PM com.github.fommil.netlib.LAPACK <clinit>\n",
      "WARNING: Failed to load implementation from: com.github.fommil.netlib.NativeSystemLAPACK\n",
      "Aug 23, 2020 2:24:50 PM com.github.fommil.netlib.LAPACK <clinit>\n",
      "WARNING: Failed to load implementation from: com.github.fommil.netlib.NativeRefLAPACK\n"
     ]
    },
    {
     "name": "stdout",
     "output_type": "stream",
     "text": [
      "0.0237890717830991\n",
      "\n",
      "The inverse of the matrix \"random\":\n",
      "-0.11126504317739788  -1.2876082260148773  -0.2752338764691966   ... (10 total)\n",
      "-2.0420331915954146   -0.0441666607086193  1.4304462596980374    ...\n",
      "2.011482615870931     0.09762407707045606  -1.301200740522487    ...\n",
      "0.30657521232286755   -0.9480860066370715  1.516453505772191     ...\n",
      "-0.11098834752011363  0.9637321117420622   -0.07528871620655513  ...\n",
      "0.07929221839470524   1.775888815060076    -2.358565210585864    ...\n",
      "2.1944906511848283    -0.6532128499297496  0.9051483920666481    ...\n",
      "-0.05062709085630078  -0.7834383822086363  0.5693789668037306    ...\n",
      "-0.5995178105059966   0.0791869935101831   0.6456506857598954    ...\n",
      "-2.3260199171149036   1.4674624377184777   -0.42219447102301033  ...\n",
      "\n",
      "The Moore-Penrose pseudoinverse of the matrix \"m3\":\n"
     ]
    },
    {
     "name": "stderr",
     "output_type": "stream",
     "text": [
      "Aug 23, 2020 2:24:50 PM com.github.fommil.netlib.BLAS <clinit>\n",
      "WARNING: Failed to load implementation from: com.github.fommil.netlib.NativeSystemBLAS\n",
      "Aug 23, 2020 2:24:50 PM com.github.fommil.netlib.BLAS <clinit>\n",
      "WARNING: Failed to load implementation from: com.github.fommil.netlib.NativeRefBLAS\n"
     ]
    },
    {
     "name": "stdout",
     "output_type": "stream",
     "text": [
      "-0.7704683270459293   0.434567057425753     -7.849434937506091E-6  \n",
      "0.5726979245394993    -0.11335616179524316  9.024035454559434E-6   \n",
      "2.762840706346051E-4  -6.18637255660168E-5  -4.689061293740586E-5  \n",
      "0.7343365151692116    -0.285769327160708    9.422182007730136E-6   \n",
      "\n",
      "The rank of matrix \"m3\":\n",
      "3\n",
      "\n",
      "The singular value decomposition of matrix \"random\":\n",
      "The left singular vectors:\n",
      "-0.23300322158336495  0.2852374424988255    ... (10 total)\n",
      "-0.326323743971161    -0.6076336448079152   ...\n",
      "-0.26005559329639766  -0.18198619114065495  ...\n",
      "-0.40782120429219226  0.13306322374410673   ...\n",
      "-0.2647568227245149   0.2177615873432731    ...\n",
      "-0.27810563182830816  -0.20852927363086687  ...\n",
      "-0.35947304527702245  0.3770695773281427    ...\n",
      "-0.23356767951818697  0.03643749900518026   ...\n",
      "-0.388757921611135    0.31667578955146575   ...\n",
      "-0.35061217339374373  -0.40484426606242235  ...\n",
      "\n",
      "The right singular vectors:\n",
      "-0.3949113155383242   -0.28590907720586833  ... (10 total)\n",
      "0.1519736307991984    0.2579787284737761    ...\n",
      "0.18054673000397795   0.4252614900129684    ...\n",
      "-0.08834455037823402  -0.21271317826158123  ...\n",
      "-0.0461008365753175   0.028779222157865512  ...\n",
      "0.12788935030662743   0.4019930787535965    ...\n",
      "-0.7345529615882578   0.3890294085017419    ...\n",
      "0.3902511476803724    0.18476884049999148   ...\n",
      "0.23471088105559662   -0.0860650391854587   ...\n",
      "0.12293496134224569   -0.5198956328624252   ...\n",
      "\n",
      "The singular values:\n",
      "DenseVector(5.056861549892496, 1.5894647058106823, 1.442831182913676, 0.9452115044980647, 0.8110731448528208, 0.7159661129472566, 0.49971173828836873, 0.4510014008924097, 0.13805071354924717, 0.12011920209850754)\n",
      "\n"
     ]
    },
    {
     "data": {
      "text/plain": [
       "\u001b[36mrandom_inv\u001b[39m: \u001b[32mDenseMatrix\u001b[39m[\u001b[32mDouble\u001b[39m] = -0.11126504317739788  -1.2876082260148773  -0.2752338764691966   ... (10 total)\n",
       "-2.0420331915954146   -0.0441666607086193  1.4304462596980374    ...\n",
       "2.011482615870931     0.09762407707045606  -1.301200740522487    ...\n",
       "0.30657521232286755   -0.9480860066370715  1.516453505772191     ...\n",
       "-0.11098834752011363  0.9637321117420622   -0.07528871620655513  ...\n",
       "0.07929221839470524   1.775888815060076    -2.358565210585864    ...\n",
       "2.1944906511848283    -0.6532128499297496  0.9051483920666481    ...\n",
       "-0.05062709085630078  -0.7834383822086363  0.5693789668037306    ...\n",
       "-0.5995178105059966   0.0791869935101831   0.6456506857598954    ...\n",
       "-2.3260199171149036   1.4674624377184777   -0.42219447102301033  ...\n",
       "\u001b[36mm3_mp_inv\u001b[39m: \u001b[32mDenseMatrix\u001b[39m[\u001b[32mDouble\u001b[39m] = -0.7704683270459293   0.434567057425753     -7.849434937506091E-6  \n",
       "0.5726979245394993    -0.11335616179524316  9.024035454559434E-6   \n",
       "2.762840706346051E-4  -6.18637255660168E-5  -4.689061293740586E-5  \n",
       "0.7343365151692116    -0.285769327160708    9.422182007730136E-6   \n",
       "\u001b[36mu\u001b[39m: \u001b[32mDenseMatrix\u001b[39m[\u001b[32mDouble\u001b[39m] = -0.23300322158336495  0.2852374424988255    ... (10 total)\n",
       "-0.326323743971161    -0.6076336448079152   ...\n",
       "-0.26005559329639766  -0.18198619114065495  ...\n",
       "-0.40782120429219226  0.13306322374410673   ...\n",
       "-0.2647568227245149   0.2177615873432731    ...\n",
       "-0.27810563182830816  -0.20852927363086687  ...\n",
       "-0.35947304527702245  0.3770695773281427    ...\n",
       "-0.23356767951818697  0.03643749900518026   ...\n",
       "-0.388757921611135    0.31667578955146575   ...\n",
       "-0.35061217339374373  -0.40484426606242235  ...\n",
       "\u001b[36ms\u001b[39m: \u001b[32mDenseVector\u001b[39m[\u001b[32mDouble\u001b[39m] = DenseVector(5.056861549892496, 1.5894647058106823, 1.442831182913676, 0.9452115044980647, 0.8110731448528208, 0.7159661129472566, 0.49971173828836873, 0.4510014008924097, 0.13805071354924717, 0.12011920209850754)\n",
       "\u001b[36mv\u001b[39m: \u001b[32mDenseMatrix\u001b[39m[\u001b[32mDouble\u001b[39m] = -0.3949113155383242   -0.28590907720586833  ... (10 total)\n",
       "0.1519736307991984    0.2579787284737761    ...\n",
       "0.18054673000397795   0.4252614900129684    ...\n",
       "-0.08834455037823402  -0.21271317826158123  ...\n",
       "-0.0461008365753175   0.028779222157865512  ...\n",
       "0.12788935030662743   0.4019930787535965    ...\n",
       "-0.7345529615882578   0.3890294085017419    ...\n",
       "0.3902511476803724    0.18476884049999148   ...\n",
       "0.23471088105559662   -0.0860650391854587   ...\n",
       "0.12293496134224569   -0.5198956328624252   ..."
      ]
     },
     "execution_count": 4,
     "metadata": {},
     "output_type": "execute_result"
    }
   ],
   "source": [
    "//Transpose \n",
    "println(\"Matrix m1:\")\n",
    "println(m1)\n",
    "println(\"\")\n",
    "println(\"transpose of m1:\")\n",
    "println(m1.t)\n",
    "println(\"\")\n",
    "\n",
    "//Determinant   \n",
    "println(\"The determinant of the matrix \\\"random\\\":\")\n",
    "println(det(random))\n",
    "println(\"\")\n",
    "\n",
    "//Inverse\n",
    "println(\"The inverse of the matrix \\\"random\\\":\")\n",
    "val random_inv = inv(random)\n",
    "println(random_inv)\n",
    "println(\"\")\n",
    "\n",
    "//Moore-Penrose Pseudoinverse (for non-square matrices)\n",
    "println(\"The Moore-Penrose pseudoinverse of the matrix \\\"m3\\\":\")\n",
    "val m3_mp_inv = pinv(m3)\n",
    "println(m3_mp_inv)\n",
    "println(\"\")\n",
    "\n",
    "//Rank\n",
    "println(\"The rank of matrix \\\"m3\\\":\")\n",
    "println(rank(m3))\n",
    "println(\"\")\n",
    "\n",
    "//Singular Value Decomposition\n",
    "val svd.SVD(u,s,v) = svd(random)\n",
    "println(\"The singular value decomposition of matrix \\\"random\\\":\")\n",
    "println(\"The left singular vectors:\")\n",
    "println(u)\n",
    "println(\"\")\n",
    "\n",
    "println(\"The right singular vectors:\")\n",
    "println(v)\n",
    "println(\"\")\n",
    "\n",
    "println(\"The singular values:\")\n",
    "println(s)\n",
    "println(\"\")"
   ]
  },
  {
   "cell_type": "code",
   "execution_count": 5,
   "metadata": {},
   "outputs": [
    {
     "name": "stdout",
     "output_type": "stream",
     "text": [
      "true\n"
     ]
    },
    {
     "data": {
      "text/plain": [
       "\u001b[36mm4\u001b[39m: \u001b[32mDenseMatrix\u001b[39m[\u001b[32mDouble\u001b[39m] = 9.616228000000001   15.722280000000001  -8528.56676          2.5345180000000003  \n",
       "21.047857794000002  30.41021464         -6910.373301399999   6.2778670860000005  \n",
       "9300.192156         -200924.5887474     4.547257733715536E8  -4629.108852774     \n",
       "\u001b[36mm5\u001b[39m: \u001b[32mDenseVector\u001b[39m[\u001b[32mDouble\u001b[39m] = DenseVector(3.7, 8.5572, -21315.31023)\n",
       "\u001b[36mres4_3\u001b[39m: \u001b[32mBoolean\u001b[39m = true"
      ]
     },
     "execution_count": 5,
     "metadata": {},
     "output_type": "execute_result"
    }
   ],
   "source": [
    "//matrix multiplication of two matrices with the same dimensions\n",
    "val m4 = m1 * m3\n",
    "\n",
    "//The result of multiplying a square matrix with the identity matrix (of the same dimensionality) is again the same matrix.\n",
    "println(m1 == m1 * DenseMatrix.eye[Double](3))\n",
    "\n",
    "//Mutiplying a matrix with a vector is a vector.\n",
    "val m5 = m1 * DenseVector.ones[Double](3)\n",
    "\n",
    "//elementwise matrix operation + \n",
    "m1 + zeros == m1"
   ]
  },
  {
   "cell_type": "code",
   "execution_count": 6,
   "metadata": {
    "scrolled": true
   },
   "outputs": [
    {
     "data": {
      "text/plain": [
       "\u001b[32mimport \u001b[39m\u001b[36m$ivy.$                                      \n",
       "\u001b[39m\n",
       "\u001b[32mimport \u001b[39m\u001b[36mplotly._, plotly.element._, plotly.layout._, plotly.Almond._\n",
       "\u001b[39m"
      ]
     },
     "execution_count": 6,
     "metadata": {},
     "output_type": "execute_result"
    }
   ],
   "source": [
    "import $ivy.`org.plotly-scala::plotly-almond:0.7.6`\n",
    "import plotly._, plotly.element._, plotly.layout._, plotly.Almond._\n",
    "repl.pprinter() = repl.pprinter().copy(defaultHeight = 3)"
   ]
  },
  {
   "cell_type": "code",
   "execution_count": 28,
   "metadata": {},
   "outputs": [],
   "source": [
    "// import $ivy.`org.plotly-scala::plotly-render:0.5.2`"
   ]
  },
  {
   "cell_type": "code",
   "execution_count": 9,
   "metadata": {},
   "outputs": [
    {
     "data": {
      "application/vnd.plotly.v1+json": {
       "config": {
        "editable": false,
        "responsive": false,
        "showEditInChartStudio": false
       },
       "data": [
        {
         "mode": "markers",
         "type": "scatter",
         "x": [
          1,
          2,
          3,
          4
         ],
         "y": [
          10,
          15,
          13,
          17
         ]
        },
        {
         "mode": "lines",
         "type": "scatter",
         "x": [
          2,
          3,
          4,
          5
         ],
         "y": [
          16,
          5,
          11,
          9
         ]
        },
        {
         "mode": "lines+markers",
         "type": "scatter",
         "x": [
          1,
          2,
          3,
          4
         ],
         "y": [
          12,
          9,
          15,
          12
         ]
        }
       ],
       "layout": {
        "title": "Line and Scatter Plot"
       }
      },
      "text/html": [
       "<div class=\"chart\" id=\"plot-dc5239c3-1255-417c-bef1-2ef0f5b933f1\"></div>\n",
       "<script>require(['plotly'], function(Plotly) {\n",
       "  (function () {\n",
       "  var data0 = {\"x\":[1.0,2.0,3.0,4.0],\"y\":[10.0,15.0,13.0,17.0],\"mode\":\"markers\",\"type\":\"scatter\"};\n",
       "  var data1 = {\"x\":[2.0,3.0,4.0,5.0],\"y\":[16.0,5.0,11.0,9.0],\"mode\":\"lines\",\"type\":\"scatter\"};\n",
       "  var data2 = {\"x\":[1.0,2.0,3.0,4.0],\"y\":[12.0,9.0,15.0,12.0],\"mode\":\"lines+markers\",\"type\":\"scatter\"};\n",
       "\n",
       "  var data = [data0, data1, data2];\n",
       "  var layout = {\"title\":\"Line and Scatter Plot\"};\n",
       " var config = {\"showEditInChartStudio\":false,\"responsive\":false,\"editable\":false};\n",
       "\n",
       "  Plotly.plot('plot-dc5239c3-1255-417c-bef1-2ef0f5b933f1', data, layout, config);\n",
       "})();\n",
       "});\n",
       "      </script>\n",
       "           "
      ]
     },
     "metadata": {},
     "output_type": "display_data"
    },
    {
     "data": {
      "text/plain": [
       "\u001b[36mtrace1\u001b[39m: \u001b[32mScatter\u001b[39m = \u001b[33mScatter\u001b[39m(\n",
       "  \u001b[33mSome\u001b[39m(\u001b[33mDoubles\u001b[39m(\u001b[33mList\u001b[39m(\u001b[32m1.0\u001b[39m, \u001b[32m2.0\u001b[39m, \u001b[32m3.0\u001b[39m, \u001b[32m4.0\u001b[39m))),\n",
       "...\n",
       "\u001b[36mtrace2\u001b[39m: \u001b[32mScatter\u001b[39m = \u001b[33mScatter\u001b[39m(\n",
       "  \u001b[33mSome\u001b[39m(\u001b[33mDoubles\u001b[39m(\u001b[33mList\u001b[39m(\u001b[32m2.0\u001b[39m, \u001b[32m3.0\u001b[39m, \u001b[32m4.0\u001b[39m, \u001b[32m5.0\u001b[39m))),\n",
       "...\n",
       "\u001b[36mtrace3\u001b[39m: \u001b[32mScatter\u001b[39m = \u001b[33mScatter\u001b[39m(\n",
       "  \u001b[33mSome\u001b[39m(\u001b[33mDoubles\u001b[39m(\u001b[33mList\u001b[39m(\u001b[32m1.0\u001b[39m, \u001b[32m2.0\u001b[39m, \u001b[32m3.0\u001b[39m, \u001b[32m4.0\u001b[39m))),\n",
       "...\n",
       "\u001b[36mdata\u001b[39m: \u001b[32mSeq\u001b[39m[\u001b[32mScatter\u001b[39m] = \u001b[33mList\u001b[39m(\n",
       "  \u001b[33mScatter\u001b[39m(\n",
       "...\n",
       "\u001b[36mlayout\u001b[39m: \u001b[32mLayout\u001b[39m = \u001b[33mLayout\u001b[39m(\n",
       "  \u001b[33mSome\u001b[39m(\u001b[32m\"Line and Scatter Plot\"\u001b[39m),\n",
       "...\n",
       "\u001b[36mplt\u001b[39m: \u001b[32mString\u001b[39m = \u001b[32m\"plot-dc5239c3-1255-417c-bef1-2ef0f5b933f1\"\u001b[39m"
      ]
     },
     "execution_count": 9,
     "metadata": {},
     "output_type": "execute_result"
    }
   ],
   "source": [
    "val trace1 = Scatter(\n",
    "  Seq(1, 2, 3, 4),\n",
    "  Seq(10, 15, 13, 17),\n",
    "  mode = ScatterMode(ScatterMode.Markers)\n",
    ")\n",
    "\n",
    "val trace2 = Scatter(\n",
    "  Seq(2, 3, 4, 5),\n",
    "  Seq(16, 5, 11, 9),\n",
    "  mode = ScatterMode(ScatterMode.Lines)\n",
    ")\n",
    "\n",
    "val trace3 = Scatter(\n",
    "  Seq(1, 2, 3, 4),\n",
    "  Seq(12, 9, 15, 12),\n",
    "  mode = ScatterMode(ScatterMode.Lines, ScatterMode.Markers)\n",
    ")\n",
    "\n",
    "val data = Seq(trace1, trace2, trace3)\n",
    "\n",
    "val layout = Layout(\n",
    "  title = \"Line and Scatter Plot\"\n",
    ")\n",
    "\n",
    "val plt = plot(data, layout)"
   ]
  },
  {
   "cell_type": "code",
   "execution_count": 11,
   "metadata": {},
   "outputs": [
    {
     "data": {
      "text/plain": [
       "\u001b[36mres10\u001b[39m: \u001b[32malmond\u001b[39m.\u001b[32minterpreter\u001b[39m.\u001b[32mapi\u001b[39m.\u001b[32mDisplayData\u001b[39m = \u001b[33mDisplayData\u001b[39m(\n",
       "  \u001b[33mMap\u001b[39m(\u001b[32m\"text/html\"\u001b[39m -> \u001b[32m\"plot-dc5239c3-1255-417c-bef1-2ef0f5b933f1\"\u001b[39m),\n",
       "..."
      ]
     },
     "execution_count": 11,
     "metadata": {},
     "output_type": "execute_result"
    }
   ],
   "source": [
    "plt."
   ]
  },
  {
   "cell_type": "code",
   "execution_count": 12,
   "metadata": {},
   "outputs": [
    {
     "data": {
      "text/plain": [
       "\u001b[36mres11\u001b[39m: \u001b[32mList\u001b[39m[\u001b[32mcoursierapi\u001b[39m.\u001b[32mRepository\u001b[39m] = \u001b[33mList\u001b[39m(\n",
       "  ApiRepo(IvyRepository(Pattern(List(Const(file:/home/jovyan/.ivy2/local/), Var(..."
      ]
     },
     "execution_count": 12,
     "metadata": {},
     "output_type": "execute_result"
    }
   ],
   "source": [
    "interp.repositories()"
   ]
  },
  {
   "cell_type": "code",
   "execution_count": 6,
   "metadata": {},
   "outputs": [],
   "source": [
    "\n"
   ]
  },
  {
   "cell_type": "code",
   "execution_count": 5,
   "metadata": {},
   "outputs": [
    {
     "data": {
      "text/plain": [
       "\u001b[32mimport \u001b[39m\u001b[36m$ivy.$                              \n",
       "\u001b[39m\n",
       "defined \u001b[32mfunction\u001b[39m \u001b[36mshowPlot\u001b[39m"
      ]
     },
     "execution_count": 5,
     "metadata": {},
     "output_type": "execute_result"
    }
   ],
   "source": [
    "interp.repositories() ++= Seq(\n",
    "  coursierapi.MavenRepository.of(\"https://dl.bintray.com/cibotech/public\")\n",
    ")\n",
    "\n",
    "import $ivy.`com.cibo::evilplot-repl:0.7.0`\n",
    "def showPlot(plot: com.cibo.evilplot.geometry.Drawable) =\n",
    "  Image.fromRenderedImage(plot.asBufferedImage, Image.PNG)"
   ]
  },
  {
   "cell_type": "code",
   "execution_count": null,
   "metadata": {},
   "outputs": [],
   "source": [
    "import $ivy.`com.cibo::evilplot-repl:0.7.0`\n",
    "def showPlot(plot: com.cibo.evilplot.geometry.Drawable) =\n",
    "  Image.fromRenderedImage(plot.asBufferedImage, Image.PNG)"
   ]
  },
  {
   "cell_type": "code",
   "execution_count": 3,
   "metadata": {},
   "outputs": [
    {
     "data": {
      "text/plain": [
       "\u001b[32mimport \u001b[39m\u001b[36mcom.cibo.evilplot.plot._\n",
       "\u001b[39m\n",
       "\u001b[32mimport \u001b[39m\u001b[36mcom.cibo.evilplot.plot.aesthetics.DefaultTheme._\n",
       "\u001b[39m\n",
       "\u001b[32mimport \u001b[39m\u001b[36mcom.cibo.evilplot.numeric.Point\n",
       "\u001b[39m\n",
       "\u001b[36mdata\u001b[39m: \u001b[32mSeq\u001b[39m[\u001b[32mPoint\u001b[39m] = \u001b[33mList\u001b[39m(\n",
       "  \u001b[33mPoint\u001b[39m(\u001b[32m0.0\u001b[39m, \u001b[32m0.4698733225717293\u001b[39m),\n",
       "  \u001b[33mPoint\u001b[39m(\u001b[32m1.0\u001b[39m, \u001b[32m0.2991135255672289\u001b[39m),\n",
       "  \u001b[33mPoint\u001b[39m(\u001b[32m2.0\u001b[39m, \u001b[32m0.7039379404183088\u001b[39m),\n",
       "  \u001b[33mPoint\u001b[39m(\u001b[32m3.0\u001b[39m, \u001b[32m0.7840933481853906\u001b[39m),\n",
       "  \u001b[33mPoint\u001b[39m(\u001b[32m4.0\u001b[39m, \u001b[32m0.05005698751604515\u001b[39m),\n",
       "  \u001b[33mPoint\u001b[39m(\u001b[32m5.0\u001b[39m, \u001b[32m0.3139267250129293\u001b[39m),\n",
       "  \u001b[33mPoint\u001b[39m(\u001b[32m6.0\u001b[39m, \u001b[32m0.8129906346791451\u001b[39m),\n",
       "  \u001b[33mPoint\u001b[39m(\u001b[32m7.0\u001b[39m, \u001b[32m0.5035591162347229\u001b[39m),\n",
       "  \u001b[33mPoint\u001b[39m(\u001b[32m8.0\u001b[39m, \u001b[32m0.21139970735542757\u001b[39m),\n",
       "  \u001b[33mPoint\u001b[39m(\u001b[32m9.0\u001b[39m, \u001b[32m0.6063220203893892\u001b[39m),\n",
       "  \u001b[33mPoint\u001b[39m(\u001b[32m10.0\u001b[39m, \u001b[32m0.9797659395491028\u001b[39m),\n",
       "  \u001b[33mPoint\u001b[39m(\u001b[32m11.0\u001b[39m, \u001b[32m0.2776995109696859\u001b[39m),\n",
       "  \u001b[33mPoint\u001b[39m(\u001b[32m12.0\u001b[39m, \u001b[32m0.6872868598843668\u001b[39m),\n",
       "  \u001b[33mPoint\u001b[39m(\u001b[32m13.0\u001b[39m, \u001b[32m0.9208717735080874\u001b[39m),\n",
       "  \u001b[33mPoint\u001b[39m(\u001b[32m14.0\u001b[39m, \u001b[32m0.08588561066760658\u001b[39m),\n",
       "  \u001b[33mPoint\u001b[39m(\u001b[32m15.0\u001b[39m, \u001b[32m0.9664678990059696\u001b[39m),\n",
       "  \u001b[33mPoint\u001b[39m(\u001b[32m16.0\u001b[39m, \u001b[32m0.21991938068402073\u001b[39m),\n",
       "  \u001b[33mPoint\u001b[39m(\u001b[32m17.0\u001b[39m, \u001b[32m0.9235226137344505\u001b[39m),\n",
       "  \u001b[33mPoint\u001b[39m(\u001b[32m18.0\u001b[39m, \u001b[32m0.3876883372818386\u001b[39m),\n",
       "  \u001b[33mPoint\u001b[39m(\u001b[32m19.0\u001b[39m, \u001b[32m0.8220820351420172\u001b[39m),\n",
       "  \u001b[33mPoint\u001b[39m(\u001b[32m20.0\u001b[39m, \u001b[32m0.9419752830953564\u001b[39m),\n",
       "  \u001b[33mPoint\u001b[39m(\u001b[32m21.0\u001b[39m, \u001b[32m0.5168462142476363\u001b[39m),\n",
       "  \u001b[33mPoint\u001b[39m(\u001b[32m22.0\u001b[39m, \u001b[32m0.34675189582567767\u001b[39m),\n",
       "  \u001b[33mPoint\u001b[39m(\u001b[32m23.0\u001b[39m, \u001b[32m0.01789443718651773\u001b[39m),\n",
       "  \u001b[33mPoint\u001b[39m(\u001b[32m24.0\u001b[39m, \u001b[32m0.5036563373836639\u001b[39m),\n",
       "  \u001b[33mPoint\u001b[39m(\u001b[32m25.0\u001b[39m, \u001b[32m0.6067679086345652\u001b[39m),\n",
       "  \u001b[33mPoint\u001b[39m(\u001b[32m26.0\u001b[39m, \u001b[32m0.6492971433532109\u001b[39m),\n",
       "  \u001b[33mPoint\u001b[39m(\u001b[32m27.0\u001b[39m, \u001b[32m0.5474572428372321\u001b[39m),\n",
       "  \u001b[33mPoint\u001b[39m(\u001b[32m28.0\u001b[39m, \u001b[32m0.767904097936875\u001b[39m),\n",
       "  \u001b[33mPoint\u001b[39m(\u001b[32m29.0\u001b[39m, \u001b[32m0.04126290242395203\u001b[39m),\n",
       "  \u001b[33mPoint\u001b[39m(\u001b[32m30.0\u001b[39m, \u001b[32m0.5189965065798646\u001b[39m),\n",
       "  \u001b[33mPoint\u001b[39m(\u001b[32m31.0\u001b[39m, \u001b[32m0.04679037990144852\u001b[39m),\n",
       "  \u001b[33mPoint\u001b[39m(\u001b[32m32.0\u001b[39m, \u001b[32m0.8428593888251253\u001b[39m),\n",
       "  \u001b[33mPoint\u001b[39m(\u001b[32m33.0\u001b[39m, \u001b[32m0.3018609388773883\u001b[39m),\n",
       "  \u001b[33mPoint\u001b[39m(\u001b[32m34.0\u001b[39m, \u001b[32m0.2646238594799387\u001b[39m),\n",
       "  \u001b[33mPoint\u001b[39m(\u001b[32m35.0\u001b[39m, \u001b[32m0.4688390617700722\u001b[39m),\n",
       "  \u001b[33mPoint\u001b[39m(\u001b[32m36.0\u001b[39m, \u001b[32m0.19817711001806382\u001b[39m),\n",
       "  \u001b[33mPoint\u001b[39m(\u001b[32m37.0\u001b[39m, \u001b[32m0.6704023465190243\u001b[39m),\n",
       "...\n",
       "\u001b[36mplot\u001b[39m: \u001b[32mcom\u001b[39m.\u001b[32mcibo\u001b[39m.\u001b[32mevilplot\u001b[39m.\u001b[32mgeometry\u001b[39m.\u001b[32mDrawable\u001b[39m = \u001b[33mGroup\u001b[39m(\n",
       "  \u001b[33mVector\u001b[39m(\n",
       "    \u001b[33mTranslate\u001b[39m(\n",
       "      \u001b[33mStrokeStyle\u001b[39m(\n",
       "        \u001b[33mGroup\u001b[39m(\n",
       "          \u001b[33mVector\u001b[39m(\n",
       "            \u001b[33mTranslate\u001b[39m(\u001b[33mRotate\u001b[39m(\u001b[33mLine\u001b[39m(\u001b[32m549.0\u001b[39m, \u001b[32m1.0\u001b[39m), \u001b[32m90.0\u001b[39m), \u001b[32m-0.5000000000000168\u001b[39m, \u001b[32m0.0\u001b[39m),\n",
       "            \u001b[33mTranslate\u001b[39m(\u001b[33mLine\u001b[39m(\u001b[32m729.39453125\u001b[39m, \u001b[32m1.0\u001b[39m), \u001b[32m0.0\u001b[39m, \u001b[32m548.5\u001b[39m)\n",
       "          )\n",
       "        ),\n",
       "        \u001b[33mHSLA\u001b[39m(\u001b[32m0.0\u001b[39m, \u001b[32m0.0\u001b[39m, \u001b[32m12.0\u001b[39m, \u001b[32m1.0\u001b[39m)\n",
       "      ),\n",
       "      \u001b[32m70.60546875\u001b[39m,\n",
       "      \u001b[32m0.0\u001b[39m\n",
       "    ),\n",
       "    \u001b[33mTranslate\u001b[39m(\n",
       "      \u001b[33mResize\u001b[39m(\n",
       "        \u001b[33mGroup\u001b[39m(\n",
       "          \u001b[33mVector\u001b[39m(\n",
       "            \u001b[33mTranslate\u001b[39m(\n",
       "              \u001b[33mStyle\u001b[39m(\u001b[33mTranslate\u001b[39m(\u001b[33mDisc\u001b[39m(\u001b[32m4.0\u001b[39m), \u001b[32m-4.0\u001b[39m, \u001b[32m-4.0\u001b[39m), \u001b[33mHSLA\u001b[39m(\u001b[32m0.0\u001b[39m, \u001b[32m0.0\u001b[39m, \u001b[32m12.0\u001b[39m, \u001b[32m1.0\u001b[39m)),\n",
       "              \u001b[32m0.0\u001b[39m,\n",
       "              \u001b[32m291.0395459081206\u001b[39m\n",
       "            ),\n",
       "            \u001b[33mTranslate\u001b[39m(\n",
       "              \u001b[33mStyle\u001b[39m(\u001b[33mTranslate\u001b[39m(\u001b[33mDisc\u001b[39m(\u001b[32m4.0\u001b[39m), \u001b[32m-4.0\u001b[39m, \u001b[32m-4.0\u001b[39m), \u001b[33mHSLA\u001b[39m(\u001b[32m0.0\u001b[39m, \u001b[32m0.0\u001b[39m, \u001b[32m12.0\u001b[39m, \u001b[32m1.0\u001b[39m)),\n",
       "              \u001b[32m7.2939453125\u001b[39m,\n",
       "              \u001b[32m384.78667446359134\u001b[39m\n",
       "            ),\n",
       "            \u001b[33mTranslate\u001b[39m(\n",
       "              \u001b[33mStyle\u001b[39m(\u001b[33mTranslate\u001b[39m(\u001b[33mDisc\u001b[39m(\u001b[32m4.0\u001b[39m), \u001b[32m-4.0\u001b[39m, \u001b[32m-4.0\u001b[39m), \u001b[33mHSLA\u001b[39m(\u001b[32m0.0\u001b[39m, \u001b[32m0.0\u001b[39m, \u001b[32m12.0\u001b[39m, \u001b[32m1.0\u001b[39m)),\n",
       "              \u001b[32m14.587890625\u001b[39m,\n",
       "              \u001b[32m162.53807071034845\u001b[39m\n",
       "            ),\n",
       "            \u001b[33mTranslate\u001b[39m(\n",
       "              \u001b[33mStyle\u001b[39m(\u001b[33mTranslate\u001b[39m(\u001b[33mDisc\u001b[39m(\u001b[32m4.0\u001b[39m), \u001b[32m-4.0\u001b[39m, \u001b[32m-4.0\u001b[39m), \u001b[33mHSLA\u001b[39m(\u001b[32m0.0\u001b[39m, \u001b[32m0.0\u001b[39m, \u001b[32m12.0\u001b[39m, \u001b[32m1.0\u001b[39m))..."
      ]
     },
     "execution_count": 3,
     "metadata": {},
     "output_type": "execute_result"
    }
   ],
   "source": [
    "import com.cibo.evilplot.plot._\n",
    "import com.cibo.evilplot.plot.aesthetics.DefaultTheme._\n",
    "import com.cibo.evilplot.numeric.Point\n",
    "val data = Seq.tabulate(100) { i =>\n",
    "  Point(i.toDouble, scala.util.Random.nextDouble())\n",
    "}\n",
    "val plot = ScatterPlot(data)\n",
    "  .xAxis()\n",
    "  .yAxis()\n",
    "  .frame()\n",
    "  .xLabel(\"x\")\n",
    "  .yLabel(\"y\")\n",
    "  .render()"
   ]
  },
  {
   "cell_type": "code",
   "execution_count": 4,
   "metadata": {},
   "outputs": [
    {
     "data": {
      "image/png": "[encoded data removed]"
     },
     "metadata": {
      "height": "2400",
      "width": "3250"
     },
     "output_type": "display_data"
    }
   ],
   "source": [
    "showPlot(plot)"
   ]
  },
  {
   "cell_type": "code",
   "execution_count": null,
   "metadata": {},
   "outputs": [],
   "source": []
  },
  {
   "cell_type": "code",
   "execution_count": null,
   "metadata": {},
   "outputs": [],
   "source": []
  },
  {
   "cell_type": "code",
   "execution_count": null,
   "metadata": {},
   "outputs": [],
   "source": []
  }
 ],
 "metadata": {
  "kernelspec": {
   "display_name": "Scala 2.12",
   "language": "scala",
   "name": "scala212"
  },
  "language_info": {
   "codemirror_mode": "text/x-scala",
   "file_extension": ".sc",
   "mimetype": "text/x-scala",
   "name": "scala",
   "nbconvert_exporter": "script",
   "version": "2.12.12"
  }
 },
 "nbformat": 4,
 "nbformat_minor": 4
}
