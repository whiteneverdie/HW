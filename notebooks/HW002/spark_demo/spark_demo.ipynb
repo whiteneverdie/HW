{
 "cells": [
  {
   "cell_type": "code",
   "execution_count": 1,
   "metadata": {
    "scrolled": true
   },
   "outputs": [
    {
     "name": "stdout",
     "output_type": "stream",
     "text": [
      "Loading spark-stubs\n",
      "Getting spark JARs\n",
      "Creating SparkSession\n"
     ]
    },
    {
     "name": "stderr",
     "output_type": "stream",
     "text": [
      "Using Spark's default log4j profile: org/apache/spark/log4j-defaults.properties\n"
     ]
    },
    {
     "data": {
      "text/html": [
       "<a target=\"_blank\" href=\"http://1a0a4646af62:4040\">Spark UI</a>"
      ]
     },
     "metadata": {},
     "output_type": "display_data"
    },
    {
     "data": {
      "text/plain": [
       "\u001b[32mimport \u001b[39m\u001b[36m$ivy.$                                  \n",
       "// import $ivy.`sh.almond::almond-spark:0.3.0`\n",
       "\n",
       "\u001b[39m\n",
       "\u001b[32mimport \u001b[39m\u001b[36morg.apache.log4j.{Level, Logger}\n",
       "\u001b[39m\n",
       "\u001b[32mimport \u001b[39m\u001b[36morg.apache.spark.sql._\n",
       "\n",
       "\u001b[39m\n",
       "\u001b[36mspark\u001b[39m: \u001b[32mSparkSession\u001b[39m = org.apache.spark.sql.SparkSession@331bc294"
      ]
     },
     "execution_count": 1,
     "metadata": {},
     "output_type": "execute_result"
    }
   ],
   "source": [
    "import $ivy.`org.apache.spark::spark-sql:2.4.5`\n",
    "// import $ivy.`sh.almond::almond-spark:0.3.0`\n",
    "\n",
    "import org.apache.log4j.{Level, Logger}\n",
    "Logger.getLogger(\"org\").setLevel(Level.OFF)\n",
    "\n",
    "import org.apache.spark.sql._\n",
    "\n",
    "val spark = NotebookSparkSession\n",
    "    .builder()\n",
    "    .master(\"local[*]\")\n",
    "    .getOrCreate()\n",
    "\n",
    "// val spark = AmmoniteSparkSession\n",
    "//     .builder()\n",
    "//     .master(\"local[*]\")\n",
    "//     .getOrCreate()"
   ]
  },
  {
   "cell_type": "code",
   "execution_count": 2,
   "metadata": {},
   "outputs": [
    {
     "data": {
      "text/html": [
       "<script>\n",
       "var comm = Jupyter.notebook.kernel.comm_manager.new_comm('cancel-stage-1031a0eb-3b3b-48a8-aa5f-ce5292fdb76e', {});\n",
       "\n",
       "function cancelStage(stageId) {\n",
       "  console.log('Cancelling stage ' + stageId);\n",
       "  comm.send({ 'stageId': stageId });\n",
       "}\n",
       "</script>\n",
       "          "
      ]
     },
     "metadata": {},
     "output_type": "display_data"
    },
    {
     "data": {
      "text/html": [
       "<div>\n",
       "  <span style=\"float: left;\">reduce at cmd1.sc:5</span>\n",
       "</div>\n"
      ]
     },
     "metadata": {},
     "output_type": "display_data"
    },
    {
     "data": {
      "text/html": [
       "<div class=\"progress\">\n",
       "  <div class=\"progress-bar\" role=\"progressbar\" style=\"background-color: blue; width: 100%; word-wrap: normal; white-space: nowrap; text-align: center; color: white\" aria-valuenow=\"100\" aria-valuemin=\"0\" aria-valuemax=\"100\">\n",
       "    100 / 100\n",
       "  </div>\n",
       "  <div class=\"progress-bar\" role=\"progressbar\" style=\"background-color: red; width: 0%\" aria-valuenow=\"0\" aria-valuemin=\"0\" aria-valuemax=\"100\"></div>\n",
       "</div>\n"
      ]
     },
     "metadata": {},
     "output_type": "display_data"
    },
    {
     "data": {
      "text/plain": [
       "defined \u001b[32mfunction\u001b[39m \u001b[36msc\u001b[39m\n",
       "\u001b[36mrdd\u001b[39m: \u001b[32morg\u001b[39m.\u001b[32mapache\u001b[39m.\u001b[32mspark\u001b[39m.\u001b[32mrdd\u001b[39m.\u001b[32mRDD\u001b[39m[\u001b[32mInt\u001b[39m] = ParallelCollectionRDD[0] at parallelize at cmd1.sc:3\n",
       "\u001b[36mn\u001b[39m: \u001b[32mInt\u001b[39m = \u001b[32m1087459712\u001b[39m"
      ]
     },
     "execution_count": 2,
     "metadata": {},
     "output_type": "execute_result"
    }
   ],
   "source": [
    "def sc = spark.sparkContext\n",
    "\n",
    "val rdd = sc.parallelize(1 to 100000000, 100)\n",
    "\n",
    "val n = rdd.map(x => x + 1).reduce((x, y) => x + y)\n",
    "\n",
    "\n",
    "// 1 2 3 4 5\n",
    "// reduce(f)\n",
    "// f(1, 2) f(3, 4) 5\n",
    "// 3 7 5\n",
    "// f(3, 7) 5\n",
    "// 10 5\n",
    "// f(10, 5)\n"
   ]
  },
  {
   "cell_type": "code",
   "execution_count": 3,
   "metadata": {},
   "outputs": [
    {
     "data": {
      "text/html": [
       "<div>\n",
       "  <span style=\"float: left;\">reduce at cmd2.sc:5</span>\n",
       "</div>\n"
      ]
     },
     "metadata": {},
     "output_type": "display_data"
    },
    {
     "data": {
      "text/html": [
       "<div class=\"progress\">\n",
       "  <div class=\"progress-bar\" role=\"progressbar\" style=\"background-color: blue; width: 100%; word-wrap: normal; white-space: nowrap; text-align: center; color: white\" aria-valuenow=\"100\" aria-valuemin=\"0\" aria-valuemax=\"100\">\n",
       "    2 / 2\n",
       "  </div>\n",
       "  <div class=\"progress-bar\" role=\"progressbar\" style=\"background-color: red; width: 0%\" aria-valuenow=\"0\" aria-valuemin=\"0\" aria-valuemax=\"100\"></div>\n",
       "</div>\n"
      ]
     },
     "metadata": {},
     "output_type": "display_data"
    },
    {
     "data": {
      "text/plain": [
       "\u001b[36mlines\u001b[39m: \u001b[32morg\u001b[39m.\u001b[32mapache\u001b[39m.\u001b[32mspark\u001b[39m.\u001b[32mrdd\u001b[39m.\u001b[32mRDD\u001b[39m[\u001b[32mString\u001b[39m] = data/crime.csv MapPartitionsRDD[3] at textFile at cmd2.sc:1\n",
       "\u001b[36mlineLengths\u001b[39m: \u001b[32morg\u001b[39m.\u001b[32mapache\u001b[39m.\u001b[32mspark\u001b[39m.\u001b[32mrdd\u001b[39m.\u001b[32mRDD\u001b[39m[\u001b[32mInt\u001b[39m] = MapPartitionsRDD[4] at map at cmd2.sc:3\n",
       "\u001b[36mtotalLength\u001b[39m: \u001b[32mInt\u001b[39m = \u001b[32m58903091\u001b[39m"
      ]
     },
     "execution_count": 3,
     "metadata": {},
     "output_type": "execute_result"
    }
   ],
   "source": [
    "val lines = sc.textFile(\"data/crime.csv\")\n",
    "\n",
    "val lineLengths = lines.map(s => s.length)\n",
    "\n",
    "val totalLength = lineLengths.reduce((a, b) => a + b)"
   ]
  },
  {
   "cell_type": "code",
   "execution_count": 4,
   "metadata": {
    "scrolled": true
   },
   "outputs": [
    {
     "data": {
      "text/html": [
       "<div>\n",
       "  <span style=\"float: left;\">reduce at cmd3.sc:5</span>\n",
       "</div>\n"
      ]
     },
     "metadata": {},
     "output_type": "display_data"
    },
    {
     "data": {
      "text/html": [
       "<div class=\"progress\">\n",
       "  <div class=\"progress-bar\" role=\"progressbar\" style=\"background-color: blue; width: 100%; word-wrap: normal; white-space: nowrap; text-align: center; color: white\" aria-valuenow=\"100\" aria-valuemin=\"0\" aria-valuemax=\"100\">\n",
       "    2 / 2\n",
       "  </div>\n",
       "  <div class=\"progress-bar\" role=\"progressbar\" style=\"background-color: red; width: 0%\" aria-valuenow=\"0\" aria-valuemin=\"0\" aria-valuemax=\"100\"></div>\n",
       "</div>\n"
      ]
     },
     "metadata": {},
     "output_type": "display_data"
    },
    {
     "data": {
      "text/html": [
       "<div>\n",
       "  <span style=\"float: left;\">map at cmd3.sc:9</span>\n",
       "</div>\n"
      ]
     },
     "metadata": {},
     "output_type": "display_data"
    },
    {
     "data": {
      "text/html": [
       "<div class=\"progress\">\n",
       "  <div class=\"progress-bar\" role=\"progressbar\" style=\"background-color: blue; width: 100%; word-wrap: normal; white-space: nowrap; text-align: center; color: white\" aria-valuenow=\"100\" aria-valuemin=\"0\" aria-valuemax=\"100\">\n",
       "    2 / 2\n",
       "  </div>\n",
       "  <div class=\"progress-bar\" role=\"progressbar\" style=\"background-color: red; width: 0%\" aria-valuenow=\"0\" aria-valuemin=\"0\" aria-valuemax=\"100\"></div>\n",
       "</div>\n"
      ]
     },
     "metadata": {},
     "output_type": "display_data"
    },
    {
     "data": {
      "text/html": [
       "<div>\n",
       "  <span style=\"float: left;\">sortBy at cmd3.sc:11</span>\n",
       "</div>\n"
      ]
     },
     "metadata": {},
     "output_type": "display_data"
    },
    {
     "data": {
      "text/html": [
       "<div class=\"progress\">\n",
       "  <div class=\"progress-bar\" role=\"progressbar\" style=\"background-color: blue; width: 100%; word-wrap: normal; white-space: nowrap; text-align: center; color: white\" aria-valuenow=\"100\" aria-valuemin=\"0\" aria-valuemax=\"100\">\n",
       "    2 / 2\n",
       "  </div>\n",
       "  <div class=\"progress-bar\" role=\"progressbar\" style=\"background-color: red; width: 0%\" aria-valuenow=\"0\" aria-valuemin=\"0\" aria-valuemax=\"100\"></div>\n",
       "</div>\n"
      ]
     },
     "metadata": {},
     "output_type": "display_data"
    },
    {
     "data": {
      "text/html": [
       "<div>\n",
       "  <span style=\"float: left;\">sortBy at cmd3.sc:11</span>\n",
       "</div>\n"
      ]
     },
     "metadata": {},
     "output_type": "display_data"
    },
    {
     "data": {
      "text/html": [
       "<div class=\"progress\">\n",
       "  <div class=\"progress-bar\" role=\"progressbar\" style=\"background-color: blue; width: 100%; word-wrap: normal; white-space: nowrap; text-align: center; color: white\" aria-valuenow=\"100\" aria-valuemin=\"0\" aria-valuemax=\"100\">\n",
       "    2 / 2\n",
       "  </div>\n",
       "  <div class=\"progress-bar\" role=\"progressbar\" style=\"background-color: red; width: 0%\" aria-valuenow=\"0\" aria-valuemin=\"0\" aria-valuemax=\"100\"></div>\n",
       "</div>\n"
      ]
     },
     "metadata": {},
     "output_type": "display_data"
    },
    {
     "data": {
      "text/html": [
       "<div>\n",
       "  <span style=\"float: left;\">take at cmd3.sc:12</span>\n",
       "</div>\n"
      ]
     },
     "metadata": {},
     "output_type": "display_data"
    },
    {
     "data": {
      "text/html": [
       "<div class=\"progress\">\n",
       "  <div class=\"progress-bar\" role=\"progressbar\" style=\"background-color: blue; width: 100%; word-wrap: normal; white-space: nowrap; text-align: center; color: white\" aria-valuenow=\"100\" aria-valuemin=\"0\" aria-valuemax=\"100\">\n",
       "    1 / 1\n",
       "  </div>\n",
       "  <div class=\"progress-bar\" role=\"progressbar\" style=\"background-color: red; width: 0%\" aria-valuenow=\"0\" aria-valuemin=\"0\" aria-valuemax=\"100\"></div>\n",
       "</div>\n"
      ]
     },
     "metadata": {},
     "output_type": "display_data"
    },
    {
     "data": {
      "text/plain": [
       "\u001b[36mlines\u001b[39m: \u001b[32morg\u001b[39m.\u001b[32mapache\u001b[39m.\u001b[32mspark\u001b[39m.\u001b[32mrdd\u001b[39m.\u001b[32mRDD\u001b[39m[\u001b[32mString\u001b[39m] = data/crime.csv MapPartitionsRDD[6] at textFile at cmd3.sc:1\n",
       "\u001b[36mtotalLength\u001b[39m: \u001b[32mInt\u001b[39m = \u001b[32m58903091\u001b[39m\n",
       "\u001b[36mcounts\u001b[39m: \u001b[32mArray\u001b[39m[(\u001b[32mString\u001b[39m, \u001b[32mInt\u001b[39m)] = \u001b[33mArray\u001b[39m(\n",
       "  (\u001b[32m\"\"\u001b[39m, \u001b[32m380873\u001b[39m),\n",
       "  (\u001b[32m\"Part Three\"\u001b[39m, \u001b[32m162928\u001b[39m),\n",
       "  (\u001b[32m\"2017\"\u001b[39m, \u001b[32m100938\u001b[39m),\n",
       "  (\u001b[32m\"Part Two\"\u001b[39m, \u001b[32m100283\u001b[39m),\n",
       "  (\u001b[32m\"2016\"\u001b[39m, \u001b[32m99134\u001b[39m),\n",
       "  (\u001b[32m\"2018\"\u001b[39m, \u001b[32m74356\u001b[39m),\n",
       "  (\u001b[32m\"Part One\"\u001b[39m, \u001b[32m63231\u001b[39m),\n",
       "  (\u001b[32m\"2015\"\u001b[39m, \u001b[32m53392\u001b[39m),\n",
       "  (\u001b[32m\"B2\"\u001b[39m, \u001b[32m51288\u001b[39m),\n",
       "  (\u001b[32m\"Friday\"\u001b[39m, \u001b[32m49758\u001b[39m)\n",
       ")"
      ]
     },
     "execution_count": 4,
     "metadata": {},
     "output_type": "execute_result"
    }
   ],
   "source": [
    "val lines = sc.textFile(\"data/crime.csv\").cache()\n",
    "\n",
    "val totalLength = lines\n",
    "    .map(s => s.length)\n",
    "    .reduce((a, b) => a + b)\n",
    "\n",
    "val counts = lines\n",
    "    .flatMap(x => x.split(\",\"))\n",
    "    .map(s => (s, 1))     // RDD[(key, value)]\n",
    "    .reduceByKey((a, b) => a + b)\n",
    "    .sortBy(x => -x._2)\n",
    "    .take(10)"
   ]
  },
  {
   "cell_type": "code",
   "execution_count": 5,
   "metadata": {
    "scrolled": true
   },
   "outputs": [
    {
     "data": {
      "text/html": [
       "<div>\n",
       "  <span style=\"float: left;\">csv at cmd4.sc:5</span>\n",
       "</div>\n"
      ]
     },
     "metadata": {},
     "output_type": "display_data"
    },
    {
     "data": {
      "text/html": [
       "<div class=\"progress\">\n",
       "  <div class=\"progress-bar\" role=\"progressbar\" style=\"background-color: blue; width: 100%; word-wrap: normal; white-space: nowrap; text-align: center; color: white\" aria-valuenow=\"100\" aria-valuemin=\"0\" aria-valuemax=\"100\">\n",
       "    1 / 1\n",
       "  </div>\n",
       "  <div class=\"progress-bar\" role=\"progressbar\" style=\"background-color: red; width: 0%\" aria-valuenow=\"0\" aria-valuemin=\"0\" aria-valuemax=\"100\"></div>\n",
       "</div>\n"
      ]
     },
     "metadata": {},
     "output_type": "display_data"
    },
    {
     "data": {
      "text/html": [
       "<div>\n",
       "  <span style=\"float: left;\">csv at cmd4.sc:5</span>\n",
       "</div>\n"
      ]
     },
     "metadata": {},
     "output_type": "display_data"
    },
    {
     "data": {
      "text/html": [
       "<div class=\"progress\">\n",
       "  <div class=\"progress-bar\" role=\"progressbar\" style=\"background-color: blue; width: 100%; word-wrap: normal; white-space: nowrap; text-align: center; color: white\" aria-valuenow=\"100\" aria-valuemin=\"0\" aria-valuemax=\"100\">\n",
       "    4 / 4\n",
       "  </div>\n",
       "  <div class=\"progress-bar\" role=\"progressbar\" style=\"background-color: red; width: 0%\" aria-valuenow=\"0\" aria-valuemin=\"0\" aria-valuemax=\"100\"></div>\n",
       "</div>\n"
      ]
     },
     "metadata": {},
     "output_type": "display_data"
    },
    {
     "data": {
      "text/html": [
       "<div>\n",
       "  <span style=\"float: left;\">show at cmd4.sc:7</span>\n",
       "</div>\n"
      ]
     },
     "metadata": {},
     "output_type": "display_data"
    },
    {
     "data": {
      "text/html": [
       "<div class=\"progress\">\n",
       "  <div class=\"progress-bar\" role=\"progressbar\" style=\"background-color: blue; width: 100%; word-wrap: normal; white-space: nowrap; text-align: center; color: white\" aria-valuenow=\"100\" aria-valuemin=\"0\" aria-valuemax=\"100\">\n",
       "    1 / 1\n",
       "  </div>\n",
       "  <div class=\"progress-bar\" role=\"progressbar\" style=\"background-color: red; width: 0%\" aria-valuenow=\"0\" aria-valuemin=\"0\" aria-valuemax=\"100\"></div>\n",
       "</div>\n"
      ]
     },
     "metadata": {},
     "output_type": "display_data"
    },
    {
     "name": "stdout",
     "output_type": "stream",
     "text": [
      "+---------------+------------+--------------------+--------------------+--------+--------------+--------+-------------------+----+-----+-----------+----+----------+----------------+-----------+------------+--------------------+\n",
      "|INCIDENT_NUMBER|OFFENSE_CODE|  OFFENSE_CODE_GROUP| OFFENSE_DESCRIPTION|DISTRICT|REPORTING_AREA|SHOOTING|   OCCURRED_ON_DATE|YEAR|MONTH|DAY_OF_WEEK|HOUR|  UCR_PART|          STREET|        Lat|        Long|            Location|\n",
      "+---------------+------------+--------------------+--------------------+--------+--------------+--------+-------------------+----+-----+-----------+----+----------+----------------+-----------+------------+--------------------+\n",
      "|     I182080058|        2403|  Disorderly Conduct|DISTURBING THE PEACE|     E18|           495|    null|2018-10-03 20:13:00|2018|   10|  Wednesday|  20|  Part Two|    ARLINGTON ST|42.26260773|-71.12118637|(42.26260773, -71...|\n",
      "|     I182080053|        3201|       Property Lost|     PROPERTY - LOST|     D14|           795|    null|2018-08-30 20:00:00|2018|    8|   Thursday|  20|Part Three|      ALLSTON ST|42.35211146|-71.13531147|(42.35211146, -71...|\n",
      "|     I182080052|        2647|               Other|THREATS TO DO BOD...|      B2|           329|    null|2018-10-03 19:20:00|2018|   10|  Wednesday|  19|  Part Two|        DEVON ST|42.30812619|-71.07692974|(42.30812619, -71...|\n",
      "|     I182080051|         413|  Aggravated Assault|ASSAULT - AGGRAVA...|      A1|            92|    null|2018-10-03 20:00:00|2018|   10|  Wednesday|  20|  Part One|    CAMBRIDGE ST|42.35945371|-71.05964817|(42.35945371, -71...|\n",
      "|     I182080050|        3122|            Aircraft|  AIRCRAFT INCIDENTS|      A7|            36|    null|2018-10-03 20:49:00|2018|   10|  Wednesday|  20|Part Three|     PRESCOTT ST|42.37525782|-71.02466343|(42.37525782, -71...|\n",
      "|     I182080049|        1402|           Vandalism|           VANDALISM|     C11|           351|    null|2018-10-02 20:40:00|2018|   10|    Tuesday|  20|  Part Two|  DORCHESTER AVE|42.29919694|-71.06046974|(42.29919694, -71...|\n",
      "|     I182080048|        3803|Motor Vehicle Acc...|M/V ACCIDENT - PE...|    null|              |    null|2018-10-03 20:16:00|2018|   10|  Wednesday|  20|Part Three|            null|42.32073413|-71.05676415|(42.32073413, -71...|\n",
      "|     I182080047|        3301|     Verbal Disputes|      VERBAL DISPUTE|      B2|           603|    null|2018-10-03 19:32:00|2018|   10|  Wednesday|  19|Part Three|      TREMONT ST|42.33380683|-71.10377843|(42.33380683, -71...|\n",
      "|     I182080045|         802|      Simple Assault|ASSAULT SIMPLE - ...|     E18|           543|    null|2018-10-03 19:27:51|2018|   10|  Wednesday|  19|  Part Two|        AVILA RD|42.25614494|-71.12802506|(42.25614494, -71...|\n",
      "|     I182080044|        3410|               Towed| TOWED MOTOR VEHICLE|      D4|           621|    null|2018-10-03 20:00:00|2018|   10|  Wednesday|  20|Part Three|COMMONWEALTH AVE|  42.348866|-71.08936284|(42.34886600, -71...|\n",
      "|     I182080043|        3803|Motor Vehicle Acc...|M/V ACCIDENT - PE...|     D14|           750|    null|2018-10-03 19:33:00|2018|   10|  Wednesday|  19|Part Three|       FOSTER ST|42.34432328|-71.15778368|(42.34432328, -71...|\n",
      "|     I182080042|         706|          Auto Theft|AUTO THEFT - MOTO...|     E13|           582|    null|2018-10-01 20:00:00|2018|   10|     Monday|  20|  Part One|       BYNNER ST|42.32324363|-71.10892316|(42.32324363, -71...|\n",
      "|     I182080041|        3006|  Medical Assistance|SICK/INJURED/MEDI...|     E18|           484|    null|2018-10-03 17:18:00|2018|   10|  Wednesday|  17|Part Three|       BELNEL RD|42.26059891| -71.1030614|(42.26059891, -71...|\n",
      "|     I182080040|        3115|  Investigate Person|  INVESTIGATE PERSON|      B3|           427|    null|2018-10-03 08:00:00|2018|   10|  Wednesday|   8|Part Three|    ELIZABETH ST|42.27986526|-71.08798275|(42.27986526, -71...|\n",
      "|     I182080039|        3006|  Medical Assistance|SICK/INJURED/MEDI...|      B3|           469|    null|2018-10-03 19:58:30|2018|   10|  Wednesday|  19|Part Three|      FOTTLER RD|42.27791927| -71.0964061|(42.27791927, -71...|\n",
      "|     I182080038|        3831|Motor Vehicle Acc...|M/V - LEAVING SCE...|    null|              |    null|2018-10-03 19:30:00|2018|   10|  Wednesday|  19|Part Three|            null|42.31596119|-71.09042564|(42.31596119, -71...|\n",
      "|     I182080037|        2647|               Other|THREATS TO DO BOD...|     C11|           385|    null|2018-10-03 18:35:00|2018|   10|  Wednesday|  18|  Part Two|       HALLET ST|42.28076737|-71.04736497|(42.28076737, -71...|\n",
      "|     I182080035|        2647|               Other|THREATS TO DO BOD...|      B2|           326|    null|2018-10-03 19:56:00|2018|   10|  Wednesday|  19|  Part Two|      DUNKELD ST|42.31277782|-71.07562922|(42.31277782, -71...|\n",
      "|     I182080034|        3115|  Investigate Person|  INVESTIGATE PERSON|      D4|           626|    null|2018-10-03 18:41:00|2018|   10|  Wednesday|  18|Part Three|   KILMARNOCK ST|42.34268073|-71.09937714|(42.34268073, -71...|\n",
      "|     I182080031|        3108|Fire Related Reports|FIRE REPORT - HOU...|     C11|           338|    null|2018-10-03 18:18:00|2018|   10|  Wednesday|  18|Part Three|    NAVILLUS TER|42.30998781|-71.06213111|(42.30998781, -71...|\n",
      "+---------------+------------+--------------------+--------------------+--------+--------------+--------+-------------------+----+-----+-----------+----+----------+----------------+-----------+------------+--------------------+\n",
      "only showing top 20 rows\n",
      "\n"
     ]
    },
    {
     "data": {
      "text/plain": [
       "\u001b[36mcrimeFacts\u001b[39m: \u001b[32mDataFrame\u001b[39m = [INCIDENT_NUMBER: string, OFFENSE_CODE: int ... 15 more fields]"
      ]
     },
     "execution_count": 5,
     "metadata": {},
     "output_type": "execute_result"
    }
   ],
   "source": [
    "val crimeFacts = spark\n",
    "    .read\n",
    "    .option(\"header\", \"true\")\n",
    "    .option(\"inferSchema\", \"true\")\n",
    "    .csv(\"data/crime.csv\")\n",
    "\n",
    "crimeFacts.show"
   ]
  },
  {
   "cell_type": "code",
   "execution_count": 6,
   "metadata": {},
   "outputs": [
    {
     "name": "stdout",
     "output_type": "stream",
     "text": [
      "root\n",
      " |-- INCIDENT_NUMBER: string (nullable = true)\n",
      " |-- OFFENSE_CODE: integer (nullable = true)\n",
      " |-- OFFENSE_CODE_GROUP: string (nullable = true)\n",
      " |-- OFFENSE_DESCRIPTION: string (nullable = true)\n",
      " |-- DISTRICT: string (nullable = true)\n",
      " |-- REPORTING_AREA: string (nullable = true)\n",
      " |-- SHOOTING: string (nullable = true)\n",
      " |-- OCCURRED_ON_DATE: timestamp (nullable = true)\n",
      " |-- YEAR: integer (nullable = true)\n",
      " |-- MONTH: integer (nullable = true)\n",
      " |-- DAY_OF_WEEK: string (nullable = true)\n",
      " |-- HOUR: integer (nullable = true)\n",
      " |-- UCR_PART: string (nullable = true)\n",
      " |-- STREET: string (nullable = true)\n",
      " |-- Lat: double (nullable = true)\n",
      " |-- Long: double (nullable = true)\n",
      " |-- Location: string (nullable = true)\n",
      "\n"
     ]
    }
   ],
   "source": [
    "crimeFacts.printSchema"
   ]
  },
  {
   "cell_type": "code",
   "execution_count": 7,
   "metadata": {},
   "outputs": [
    {
     "data": {
      "text/plain": [
       "\u001b[32mimport \u001b[39m\u001b[36mspark.implicits._\n",
       "\n",
       "\u001b[39m\n",
       "\u001b[36mres6_1\u001b[39m: \u001b[32mColumn\u001b[39m = (OFFENSE_CODE + 1)\n",
       "\u001b[36mres6_2\u001b[39m: \u001b[32mString\u001b[39m = \u001b[32m\"OFFENSE_CODE1\"\u001b[39m"
      ]
     },
     "execution_count": 7,
     "metadata": {},
     "output_type": "execute_result"
    }
   ],
   "source": [
    "import spark.implicits._\n",
    "\n",
    "$\"OFFENSE_CODE\" + 1\n",
    "\"OFFENSE_CODE\" + 1\n",
    "// crimeFacts.select($\"OFFENSE_CODE\" + 1)\n",
    "// crimeFacts.select(\"OFFENSE_CODE\" + 1)"
   ]
  },
  {
   "cell_type": "code",
   "execution_count": 8,
   "metadata": {},
   "outputs": [],
   "source": [
    "crimeFacts.createOrReplaceTempView(\"crimes\")"
   ]
  },
  {
   "cell_type": "code",
   "execution_count": 9,
   "metadata": {},
   "outputs": [
    {
     "data": {
      "text/html": [
       "<div>\n",
       "  <span style=\"float: left;\">show at cmd8.sc:1</span>\n",
       "</div>\n"
      ]
     },
     "metadata": {},
     "output_type": "display_data"
    },
    {
     "data": {
      "text/html": [
       "<div class=\"progress\">\n",
       "  <div class=\"progress-bar\" role=\"progressbar\" style=\"background-color: blue; width: 100%; word-wrap: normal; white-space: nowrap; text-align: center; color: white\" aria-valuenow=\"100\" aria-valuemin=\"0\" aria-valuemax=\"100\">\n",
       "    1 / 1\n",
       "  </div>\n",
       "  <div class=\"progress-bar\" role=\"progressbar\" style=\"background-color: red; width: 0%\" aria-valuenow=\"0\" aria-valuemin=\"0\" aria-valuemax=\"100\"></div>\n",
       "</div>\n"
      ]
     },
     "metadata": {},
     "output_type": "display_data"
    },
    {
     "name": "stdout",
     "output_type": "stream",
     "text": [
      "+---------------+--------+\n",
      "|INCIDENT_NUMBER|DISTRICT|\n",
      "+---------------+--------+\n",
      "|     I182080058|     E18|\n",
      "|     I182080053|     D14|\n",
      "|     I182080052|      B2|\n",
      "|     I182080051|      A1|\n",
      "|     I182080050|      A7|\n",
      "|     I182080049|     C11|\n",
      "|     I182080048|    null|\n",
      "|     I182080047|      B2|\n",
      "|     I182080045|     E18|\n",
      "|     I182080044|      D4|\n",
      "+---------------+--------+\n",
      "\n"
     ]
    }
   ],
   "source": [
    "spark.sql(\"select INCIDENT_NUMBER, DISTRICT from crimes limit 10\").show"
   ]
  },
  {
   "cell_type": "code",
   "execution_count": 11,
   "metadata": {
    "scrolled": true
   },
   "outputs": [
    {
     "data": {
      "text/html": [
       "<div>\n",
       "  <span style=\"float: left;\">show at cmd10.sc:29</span>\n",
       "</div>\n"
      ]
     },
     "metadata": {},
     "output_type": "display_data"
    },
    {
     "data": {
      "text/html": [
       "<div class=\"progress\">\n",
       "  <div class=\"progress-bar\" role=\"progressbar\" style=\"background-color: blue; width: 100%; word-wrap: normal; white-space: nowrap; text-align: center; color: white\" aria-valuenow=\"100\" aria-valuemin=\"0\" aria-valuemax=\"100\">\n",
       "    1 / 1\n",
       "  </div>\n",
       "  <div class=\"progress-bar\" role=\"progressbar\" style=\"background-color: red; width: 0%\" aria-valuenow=\"0\" aria-valuemin=\"0\" aria-valuemax=\"100\"></div>\n",
       "</div>\n"
      ]
     },
     "metadata": {},
     "output_type": "display_data"
    },
    {
     "name": "stdout",
     "output_type": "stream",
     "text": [
      "+---------------+------------+------------------+-------------------+--------+--------------+--------+-------------------+----+-----+-----------+----+--------+--------------+-----------+------------+--------------------+\n",
      "|INCIDENT_NUMBER|OFFENSE_CODE|OFFENSE_CODE_GROUP|OFFENSE_DESCRIPTION|DISTRICT|REPORTING_AREA|SHOOTING|   OCCURRED_ON_DATE|YEAR|MONTH|DAY_OF_WEEK|HOUR|UCR_PART|        STREET|        Lat|        Long|            Location|\n",
      "+---------------+------------+------------------+-------------------+--------+--------------+--------+-------------------+----+-----+-----------+----+--------+--------------+-----------+------------+--------------------+\n",
      "|     I182080049|        1402|         Vandalism|          VANDALISM|     C11|           351|    null|2018-10-02 20:40:00|2018|   10|    Tuesday|  20|Part Two|DORCHESTER AVE|42.29919694|-71.06046974|(42.29919694, -71...|\n",
      "|     I182080016|        1402|         Vandalism|          VANDALISM|     C11|           405|    null|2018-09-30 00:00:00|2018|    9|     Sunday|   0|Part Two| WASHINGTON ST|42.27234506|-71.06871774|(42.27234506, -71...|\n",
      "|     I182080013|        1402|         Vandalism|          VANDALISM|      B2|           588|    null|2018-10-02 22:00:00|2018|   10|    Tuesday|  22|Part Two|     GURNEY ST|42.33201285|-71.09598982|(42.33201285, -71...|\n",
      "+---------------+------------+------------------+-------------------+--------+--------------+--------+-------------------+----+-----+-----------+----+--------+--------------+-----------+------------+--------------------+\n",
      "only showing top 3 rows\n",
      "\n"
     ]
    },
    {
     "data": {
      "text/html": [
       "<div>\n",
       "  <span style=\"float: left;\">show at cmd10.sc:30</span>\n",
       "</div>\n"
      ]
     },
     "metadata": {},
     "output_type": "display_data"
    },
    {
     "data": {
      "text/html": [
       "<div class=\"progress\">\n",
       "  <div class=\"progress-bar\" role=\"progressbar\" style=\"background-color: blue; width: 100%; word-wrap: normal; white-space: nowrap; text-align: center; color: white\" aria-valuenow=\"100\" aria-valuemin=\"0\" aria-valuemax=\"100\">\n",
       "    1 / 1\n",
       "  </div>\n",
       "  <div class=\"progress-bar\" role=\"progressbar\" style=\"background-color: red; width: 0%\" aria-valuenow=\"0\" aria-valuemin=\"0\" aria-valuemax=\"100\"></div>\n",
       "</div>\n"
      ]
     },
     "metadata": {},
     "output_type": "display_data"
    },
    {
     "name": "stdout",
     "output_type": "stream",
     "text": [
      "+---------------+------------+------------------+--------------------+--------+--------------+--------+-------------------+----+-----+-----------+----+----------+------------+-----------+------------+--------------------+\n",
      "|INCIDENT_NUMBER|OFFENSE_CODE|OFFENSE_CODE_GROUP| OFFENSE_DESCRIPTION|DISTRICT|REPORTING_AREA|SHOOTING|   OCCURRED_ON_DATE|YEAR|MONTH|DAY_OF_WEEK|HOUR|  UCR_PART|      STREET|        Lat|        Long|            Location|\n",
      "+---------------+------------+------------------+--------------------+--------+--------------+--------+-------------------+----+-----+-----------+----+----------+------------+-----------+------------+--------------------+\n",
      "|     I182080058|        2403|Disorderly Conduct|DISTURBING THE PEACE|     E18|           495|    null|2018-10-03 20:13:00|2018|   10|  Wednesday|  20|  Part Two|ARLINGTON ST|42.26260773|-71.12118637|(42.26260773, -71...|\n",
      "|     I182080053|        3201|     Property Lost|     PROPERTY - LOST|     D14|           795|    null|2018-08-30 20:00:00|2018|    8|   Thursday|  20|Part Three|  ALLSTON ST|42.35211146|-71.13531147|(42.35211146, -71...|\n",
      "|     I182080052|        2647|             Other|THREATS TO DO BOD...|      B2|           329|    null|2018-10-03 19:20:00|2018|   10|  Wednesday|  19|  Part Two|    DEVON ST|42.30812619|-71.07692974|(42.30812619, -71...|\n",
      "+---------------+------------+------------------+--------------------+--------+--------------+--------+-------------------+----+-----+-----------+----+----------+------------+-----------+------------+--------------------+\n",
      "only showing top 3 rows\n",
      "\n"
     ]
    },
    {
     "data": {
      "text/plain": [
       "\u001b[32mimport \u001b[39m\u001b[36mspark.implicits._\n",
       "\n",
       "\u001b[39m\n",
       "defined \u001b[32mclass\u001b[39m \u001b[36mCrime\u001b[39m"
      ]
     },
     "execution_count": 11,
     "metadata": {},
     "output_type": "execute_result"
    }
   ],
   "source": [
    "import spark.implicits._\n",
    "\n",
    "org.apache.spark.sql.catalyst.encoders.OuterScopes.addOuterScope(this)\n",
    "\n",
    "case class Crime (\n",
    "    INCIDENT_NUMBER: String,\n",
    "    OFFENSE_CODE: Int,\n",
    "    OFFENSE_CODE_GROUP: String,\n",
    "    OFFENSE_DESCRIPTION: String,\n",
    "    DISTRICT: String,\n",
    "    REPORTING_AREA: String,\n",
    "    SHOOTING: String,\n",
    "    OCCURRED_ON_DATE: String,\n",
    "    YEAR: Int,\n",
    "    MONTH: Int,\n",
    "    DAY_OF_WEEK: String,\n",
    "    HOUR: Int,\n",
    "    UCR_PART: String,\n",
    "    STREET: String,\n",
    "    Lat: Double,\n",
    "    Long: Double,\n",
    "    Location: String\n",
    ") {\n",
    "    \n",
    "    def wasShooting: Boolean = { SHOOTING != \"null\" }\n",
    "    \n",
    "}\n",
    "\n",
    "crimeFacts.as[Crime].filter(x => x.OFFENSE_DESCRIPTION == \"VANDALISM\").show(3)\n",
    "crimeFacts.as[Crime].filter(x => x.wasShooting).show(3)"
   ]
  },
  {
   "cell_type": "code",
   "execution_count": null,
   "metadata": {},
   "outputs": [],
   "source": [
    "val offenseCodes = spark.read.option(\"header\", \"true\").option(\"inferSchema\", \"true\").csv(\"data/offense_codes.csv\")\n",
    "offenseCodes.show(false)"
   ]
  },
  {
   "cell_type": "code",
   "execution_count": null,
   "metadata": {},
   "outputs": [],
   "source": [
    "import spark.implicits._\n",
    "\n",
    "crimeFacts\n",
    "    .join(offenseCodes, $\"CODE\" === $\"OFFENSE_CODE\")\n",
    "    .where($\"NAME\".startsWith(\"ROBBERY\"))\n",
    "    .groupBy($\"NAME\")\n",
    "    .count()\n",
    "    .orderBy($\"count\".desc)\n",
    "    .show(false)"
   ]
  },
  {
   "cell_type": "code",
   "execution_count": null,
   "metadata": {},
   "outputs": [],
   "source": [
    "import org.apache.spark.sql.functions.broadcast\n",
    "\n",
    "val offenseCodesBroadcast = broadcast(offenseCodes)\n",
    "\n",
    "val robberyStatsWithBroadcast = crimeFacts\n",
    "    .join(offenseCodesBroadcast, $\"CODE\" === $\"OFFENSE_CODE\")\n",
    "    .filter($\"NAME\".startsWith(\"ROBBERY\"))\n",
    "    .groupBy($\"NAME\")\n",
    "    .count()\n",
    "    .orderBy($\"count\".desc)\n",
    "    \n",
    "robberyStatsWithBroadcast.show"
   ]
  },
  {
   "cell_type": "code",
   "execution_count": null,
   "metadata": {},
   "outputs": [],
   "source": []
  }
 ],
 "metadata": {
  "kernelspec": {
   "display_name": "Scala 2.12",
   "language": "scala",
   "name": "scala212"
  },
  "language_info": {
   "codemirror_mode": "text/x-scala",
   "file_extension": ".sc",
   "mimetype": "text/x-scala",
   "name": "scala",
   "nbconvert_exporter": "script",
   "version": "2.12.12"
  }
 },
 "nbformat": 4,
 "nbformat_minor": 4
}
